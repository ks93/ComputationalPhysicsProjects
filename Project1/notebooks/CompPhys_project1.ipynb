{
 "cells": [
  {
   "cell_type": "code",
   "execution_count": 1,
   "metadata": {
    "colab": {},
    "colab_type": "code",
    "id": "IUlh564b1zBc"
   },
   "outputs": [],
   "source": [
    "import numpy as np"
   ]
  },
  {
   "cell_type": "markdown",
   "metadata": {},
   "source": [
    "### Sources:\n",
    "- Pseudo: https://www.codesansar.com/numerical-methods/gauss-elimination-method-pseudocode.htm\n",
    "- https://www.youtube.com/watch?v=ZDxONtacA_4\n",
    "- https://en.wikipedia.org/wiki/Gaussian_elimination\n",
    "- https://stackoverflow.com/questions/12660052/time-complexity-of-scipy-linalg-solve-lapack-gesv-on-large-matrix"
   ]
  },
  {
   "cell_type": "code",
   "execution_count": 12,
   "metadata": {
    "colab": {},
    "colab_type": "code",
    "id": "Y57NS64616X2"
   },
   "outputs": [],
   "source": [
    "# TODO: Don't alter row if it has leading 0\n",
    "def gaussian_elimination(ab):\n",
    "    # Gaussian Elimination\n",
    "    for i in range(n-1):\n",
    "        if ab[i,i] == 0:\n",
    "            raise ZeroDivisionError('Zero value in matrix..')\n",
    "\n",
    "        for j in range(i+1, n):\n",
    "            ratio = ab[j,i] / ab[i,i]\n",
    "\n",
    "            for k in range(i, n+1):\n",
    "                ab[j,k] = ab[j,k] - ratio * ab[i,k]\n",
    "\n",
    "    # Backward Substitution\n",
    "    X = np.zeros((n,1))\n",
    "    X[n-1,0] = ab[n-1,n] / ab[n-1,n-1]\n",
    "\n",
    "    for i in range(n-2,-1,-1):\n",
    "        knowns = ab[i, n]\n",
    "        for j in range(i+1, n):\n",
    "            knowns -= ab[i,j] * X[j,0]    \n",
    "        X[i,0] = knowns / ab[i,i]\n",
    "    return X"
   ]
  },
  {
   "cell_type": "code",
   "execution_count": 19,
   "metadata": {
    "colab": {
     "base_uri": "https://localhost:8080/",
     "height": 35
    },
    "colab_type": "code",
    "id": "9P0LCLDh16cp",
    "outputId": "bffa5134-0345-4fde-9502-3cf105c237cc"
   },
   "outputs": [],
   "source": [
    "n = 10\n",
    "A = np.random.rand(n, n)\n",
    "b = np.ones((n,1))\n",
    "ab = np.c_[A,b]"
   ]
  },
  {
   "cell_type": "code",
   "execution_count": 23,
   "metadata": {
    "colab": {
     "base_uri": "https://localhost:8080/",
     "height": 69
    },
    "colab_type": "code",
    "id": "7hfyqJ_G16aX",
    "outputId": "28949d67-065b-42db-af07-9662710e5d1b"
   },
   "outputs": [
    {
     "data": {
      "text/plain": [
       "(10, 11)"
      ]
     },
     "execution_count": 23,
     "metadata": {},
     "output_type": "execute_result"
    }
   ],
   "source": [
    "ab.shape"
   ]
  },
  {
   "cell_type": "code",
   "execution_count": 24,
   "metadata": {
    "colab": {
     "base_uri": "https://localhost:8080/",
     "height": 69
    },
    "colab_type": "code",
    "id": "ADddFbs115k1",
    "outputId": "ecc50491-7c2d-451c-e5ec-994bc2145bab"
   },
   "outputs": [
    {
     "name": "stdout",
     "output_type": "stream",
     "text": [
      "240 µs ± 6.22 µs per loop (mean ± std. dev. of 7 runs, 1000 loops each)\n"
     ]
    }
   ],
   "source": [
    "%%timeit\n",
    "gaussian_elimination(ab)"
   ]
  },
  {
   "cell_type": "code",
   "execution_count": 25,
   "metadata": {
    "colab": {
     "base_uri": "https://localhost:8080/",
     "height": 69
    },
    "colab_type": "code",
    "id": "NU-RHTN7B1B0",
    "outputId": "fb919bc8-581d-4bce-86a6-e6d3104b37f4"
   },
   "outputs": [
    {
     "name": "stdout",
     "output_type": "stream",
     "text": [
      "7.12 µs ± 189 ns per loop (mean ± std. dev. of 7 runs, 100000 loops each)\n"
     ]
    }
   ],
   "source": [
    "%%timeit\n",
    "np.linalg.solve(A,b)"
   ]
  },
  {
   "cell_type": "markdown",
   "metadata": {
    "colab": {},
    "colab_type": "code",
    "id": "l60fI200J4ec"
   },
   "source": [
    "## Why so slooow?"
   ]
  },
  {
   "cell_type": "code",
   "execution_count": null,
   "metadata": {},
   "outputs": [],
   "source": []
  }
 ],
 "metadata": {
  "colab": {
   "name": "CompPhys_project1.ipynb",
   "provenance": []
  },
  "kernelspec": {
   "display_name": "Python [conda env:compphys]",
   "language": "python",
   "name": "conda-env-compphys-py"
  },
  "language_info": {
   "codemirror_mode": {
    "name": "ipython",
    "version": 3
   },
   "file_extension": ".py",
   "mimetype": "text/x-python",
   "name": "python",
   "nbconvert_exporter": "python",
   "pygments_lexer": "ipython3",
   "version": "3.8.5"
  }
 },
 "nbformat": 4,
 "nbformat_minor": 1
}
